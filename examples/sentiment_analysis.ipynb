{
 "cells": [
  {
   "cell_type": "markdown",
   "id": "3ac7fcf5",
   "metadata": {},
   "source": [
    "# Simple Sentiment Analysis with NLTK VADER\n",
    "\n",
    "This notebook demonstrates how to perform sentiment analysis using NLTK's VADER (Valence Aware Dictionary and sEntiment Reasoner) analyzer.\n",
    "VADER is especially useful for social media text analysis."
   ]
  },
  {
   "cell_type": "code",
   "execution_count": 4,
   "id": "06ced96c",
   "metadata": {},
   "outputs": [
    {
     "name": "stderr",
     "output_type": "stream",
     "text": [
      "[nltk_data] Downloading package vader_lexicon to\n",
      "[nltk_data]     /Users/igorjakus/nltk_data...\n",
      "[nltk_data]   Package vader_lexicon is already up-to-date!\n"
     ]
    },
    {
     "data": {
      "text/plain": [
       "True"
      ]
     },
     "execution_count": 4,
     "metadata": {},
     "output_type": "execute_result"
    }
   ],
   "source": [
    "import nltk\n",
    "from nltk.sentiment.vader import SentimentIntensityAnalyzer\n",
    "\n",
    "nltk.download('vader_lexicon')"
   ]
  },
  {
   "cell_type": "markdown",
   "id": "10051ef8",
   "metadata": {},
   "source": [
    "## Basic Sentiment Analysis\n",
    "\n",
    "Let's analyze some example texts to see how VADER works."
   ]
  },
  {
   "cell_type": "code",
   "execution_count": 5,
   "id": "e2cd9ec1",
   "metadata": {},
   "outputs": [
    {
     "name": "stdout",
     "output_type": "stream",
     "text": [
      "{'neg': 0.0, 'neu': 0.286, 'pos': 0.714, 'compound': 0.9259}\n",
      "{'neg': 0.0, 'neu': 0.485, 'pos': 0.515, 'compound': 0.6486}\n",
      "{'neg': 0.474, 'neu': 0.526, 'pos': 0.0, 'compound': -0.802}\n"
     ]
    }
   ],
   "source": [
    "# Initialize VADER sentiment analyzer\n",
    "sia = SentimentIntensityAnalyzer()\n",
    "\n",
    "# Example texts with different sentiments\n",
    "texts = [\n",
    "    \"I love this product! It's amazing and works perfectly.\",\n",
    "    \"This is okay, but could be better.\",\n",
    "    \"This is the worst product I've ever bought. Terrible experience.\"\n",
    "]\n",
    "\n",
    "# Analyze sentiment for each text\n",
    "for text in texts:\n",
    "    scores = sia.polarity_scores(text)\n",
    "    print(scores)"
   ]
  },
  {
   "cell_type": "markdown",
   "id": "8bfdad28",
   "metadata": {},
   "source": [
    "## Understanding the Scores\n",
    "\n",
    "VADER provides several sentiment scores:\n",
    "- `neg`: Proportion of negative sentiment (0-1)\n",
    "- `neu`: Proportion of neutral sentiment (0-1)\n",
    "- `pos`: Proportion of positive sentiment (0-1)\n",
    "- `compound`: Normalized aggregate score (-1 to +1)\n",
    "\n",
    "The compound score helps determine overall sentiment:\n",
    "- Positive: compound score >= 0.05\n",
    "- Neutral: compound score between -0.05 and 0.05\n",
    "- Negative: compound score <= -0.05"
   ]
  },
  {
   "cell_type": "markdown",
   "id": "c14e8727",
   "metadata": {},
   "source": [
    "## Try Your Own Text\n",
    "\n",
    "You can analyze your own text below:"
   ]
  },
  {
   "cell_type": "code",
   "execution_count": null,
   "id": "f90f7cb0",
   "metadata": {},
   "outputs": [
    {
     "name": "stdout",
     "output_type": "stream",
     "text": [
      "Text: fire!\n",
      "Sentiment scores: {'neg': 1.0, 'neu': 0.0, 'pos': 0.0, 'compound': -0.4003}\n",
      "Overall sentiment: Negative\n"
     ]
    }
   ],
   "source": [
    "# Function to analyze any text\n",
    "def analyze_sentiment(text):\n",
    "    scores = sia.polarity_scores(text)\n",
    "    print(f\"Text: {text}\")\n",
    "    print(f\"Sentiment scores: {scores}\")\n",
    "    if scores['compound'] >= 0.05:\n",
    "        sentiment = 'Positive'\n",
    "    elif scores['compound'] <= -0.05:\n",
    "        sentiment = 'Negative'\n",
    "    else:\n",
    "        sentiment = 'Neutral'\n",
    "    print(f\"Overall sentiment: {sentiment}\")\n",
    "\n",
    "# Example usage\n",
    "your_text = \"This is a great day!\"  # Change this text to try your own\n",
    "analyze_sentiment(your_text)"
   ]
  },
  {
   "cell_type": "code",
   "execution_count": null,
   "id": "8bec91f1",
   "metadata": {},
   "outputs": [],
   "source": []
  }
 ],
 "metadata": {
  "kernelspec": {
   "display_name": ".venv",
   "language": "python",
   "name": "python3"
  },
  "language_info": {
   "codemirror_mode": {
    "name": "ipython",
    "version": 3
   },
   "file_extension": ".py",
   "mimetype": "text/x-python",
   "name": "python",
   "nbconvert_exporter": "python",
   "pygments_lexer": "ipython3",
   "version": "3.12.4"
  }
 },
 "nbformat": 4,
 "nbformat_minor": 5
}
