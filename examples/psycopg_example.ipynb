{
 "cells": [
  {
   "cell_type": "markdown",
   "id": "278cc8b4",
   "metadata": {},
   "source": [
    "# Psycopg 3 Example\n",
    "\n",
    "This notebook demonstrates how to use the [psycopg3](https://www.psycopg.org/psycopg3/docs/) library to use PostgreSQL database"
   ]
  },
  {
   "cell_type": "markdown",
   "id": "6752d81f",
   "metadata": {},
   "source": [
    "## Connect to PostgreSQL database"
   ]
  },
  {
   "cell_type": "code",
   "execution_count": null,
   "id": "898a7c6d",
   "metadata": {},
   "outputs": [],
   "source": [
    "import psycopg\n",
    "\n",
    "# Connect to the database (change parameters to your own)\n",
    "conn = psycopg.connect(\"dbname=test user=postgres password=secret host=localhost port=5432\")"
   ]
  },
  {
   "cell_type": "markdown",
   "id": "432da791",
   "metadata": {},
   "source": [
    "## Using context managers\n",
    "You can use `with psycopg.connect(...) as conn:` to ensure the connection is always closed properly. This is recommended for scripts and one-off tasks."
   ]
  },
  {
   "cell_type": "code",
   "execution_count": null,
   "id": "71102f69",
   "metadata": {},
   "outputs": [],
   "source": [
    "# Or use context manager to automatically close the connection\n",
    "with psycopg.connect(\"dbname=test user=postgres password=secret host=localhost port=5432\") as conn:\n",
    "    pass"
   ]
  },
  {
   "cell_type": "markdown",
   "id": "9179acb5",
   "metadata": {},
   "source": [
    "## Create a table\n",
    "Let's create a simple table named `test`."
   ]
  },
  {
   "cell_type": "code",
   "execution_count": null,
   "id": "ec4c3c61",
   "metadata": {},
   "outputs": [],
   "source": [
    "with conn.cursor() as cur:\n",
    "    cur.execute(\"\"\"\n",
    "        CREATE TABLE IF NOT EXISTS test (\n",
    "            id serial PRIMARY KEY,\n",
    "            num integer,\n",
    "            data varchar\n",
    "        );\n",
    "    \"\"\")\n",
    "    conn.commit()"
   ]
  },
  {
   "cell_type": "markdown",
   "id": "9efb1833",
   "metadata": {},
   "source": [
    "## Insert data\n",
    "Insert a sample row into the table."
   ]
  },
  {
   "cell_type": "code",
   "execution_count": null,
   "id": "d307e36d",
   "metadata": {},
   "outputs": [],
   "source": [
    "with conn.cursor() as cur:\n",
    "    cur.execute(\"INSERT INTO test (num, data) VALUES (%s, %s)\", (100, \"abc'def\"))\n",
    "    conn.commit()"
   ]
  },
  {
   "cell_type": "markdown",
   "id": "5bf8e9fe",
   "metadata": {},
   "source": [
    "## Query data\n",
    "Select and display all rows from the `test` table."
   ]
  },
  {
   "cell_type": "code",
   "execution_count": null,
   "id": "f7345fb6",
   "metadata": {},
   "outputs": [],
   "source": [
    "with conn.cursor() as cur:\n",
    "    cur.execute(\"SELECT * FROM test;\")\n",
    "    rows = cur.fetchall()\n",
    "    for row in rows:\n",
    "        print(row)"
   ]
  },
  {
   "cell_type": "markdown",
   "id": "e7b38014",
   "metadata": {},
   "source": [
    "## Safe parameter passing\n",
    "Always use placeholders (`%s`) and pass parameters as a tuple to avoid SQL injection. Never use string formatting to build SQL queries!"
   ]
  },
  {
   "cell_type": "code",
   "execution_count": null,
   "id": "21660b98",
   "metadata": {},
   "outputs": [],
   "source": [
    "with psycopg.connect(\"dbname=test user=postgres password=secret host=localhost port=5432\") as conn:\n",
    "    with conn.cursor() as cur:\n",
    "        user_id = 1\n",
    "        cur.execute(\"SELECT * FROM test WHERE id = %s\", (user_id,))\n",
    "        print(cur.fetchone())  # fetch one row"
   ]
  },
  {
   "cell_type": "markdown",
   "id": "46c1e483",
   "metadata": {},
   "source": [
    "## Fetching data\n",
    "You can fetch query results in several ways:\n",
    "- `fetchone()`: fetch the next row\n",
    "- `fetchmany(n)`: fetch the next n rows\n",
    "- `fetchall()`: fetch all remaining rows\n",
    "\n",
    "Let's see examples:"
   ]
  },
  {
   "cell_type": "code",
   "execution_count": null,
   "id": "710f20d8",
   "metadata": {},
   "outputs": [],
   "source": [
    "with psycopg.connect(\"dbname=test user=postgres password=secret host=localhost port=5432\") as conn:\n",
    "    with conn.cursor() as cur:\n",
    "        cur.execute(\"SELECT * FROM test ORDER BY id\")\n",
    "        print('fetchone:', cur.fetchone())\n",
    "        print('fetchmany(2):', cur.fetchmany(2))\n",
    "        print('fetchall:', cur.fetchall())"
   ]
  },
  {
   "cell_type": "markdown",
   "id": "74835594",
   "metadata": {},
   "source": [
    "## Close the connection"
   ]
  },
  {
   "cell_type": "code",
   "execution_count": null,
   "id": "0d2372cc",
   "metadata": {},
   "outputs": [],
   "source": [
    "conn.close()"
   ]
  }
 ],
 "metadata": {
  "language_info": {
   "name": "python"
  }
 },
 "nbformat": 4,
 "nbformat_minor": 5
}
